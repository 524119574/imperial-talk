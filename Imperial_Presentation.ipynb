{
 "cells": [
  {
   "cell_type": "markdown",
   "metadata": {},
   "source": [
    "# Presentation for Imperial\n",
    "\n",
    "Setup questions should be in the README, if you're having trouble, raise an issue on Github or drop me an email."
   ]
  },
  {
   "cell_type": "code",
   "execution_count": 1,
   "metadata": {},
   "outputs": [
    {
     "name": "stdout",
     "output_type": "stream",
     "text": [
      "[nltk_data] Downloading package vader_lexicon to\n",
      "[nltk_data]     /Users/aaron/nltk_data...\n",
      "[nltk_data]   Package vader_lexicon is already up-to-date!\n"
     ]
    },
    {
     "data": {
      "text/plain": [
       "True"
      ]
     },
     "execution_count": 1,
     "metadata": {},
     "output_type": "execute_result"
    }
   ],
   "source": [
    "import nltk\n",
    "import os\n",
    "import seaborn as sns\n",
    "import matplotlib.pyplot as plt\n",
    "%matplotlib inline\n",
    "\n",
    "# Let's download some data to test with\n",
    "nltk.download('vader_lexicon')"
   ]
  },
  {
   "cell_type": "code",
   "execution_count": 2,
   "metadata": {},
   "outputs": [
    {
     "name": "stdout",
     "output_type": "stream",
     "text": [
      "Imperial is a great university\n",
      "compound: 0.6249, neg: 0.0, neu: 0.423, pos: 0.577, \n",
      "------\n",
      "I don't enjoy coding in Perl\n",
      "compound: -0.3875, neg: 0.396, neu: 0.604, pos: 0.0, \n",
      "------\n",
      "BlackRock is the best\n",
      "compound: 0.6369, neg: 0.0, neu: 0.417, pos: 0.583, \n",
      "------\n",
      "BlackRock is the best!!!\n",
      "compound: 0.7249, neg: 0.0, neu: 0.371, pos: 0.629, \n",
      "------\n"
     ]
    },
    {
     "name": "stderr",
     "output_type": "stream",
     "text": [
      "/Users/aaron/code/aaroncritchley/imperial-talk/venv/lib/python3.6/site-packages/nltk/twitter/__init__.py:20: UserWarning: The twython library has not been installed. Some functionality from the twitter package will not be available.\n",
      "  warnings.warn(\"The twython library has not been installed. \"\n"
     ]
    }
   ],
   "source": [
    "from nltk.sentiment.vader import SentimentIntensityAnalyzer\n",
    "\n",
    "sid = SentimentIntensityAnalyzer()\n",
    "\n",
    "sentences = [\n",
    "    'Imperial is a great university',\n",
    "    \"I don't enjoy coding in Perl\",\n",
    "    'BlackRock is the best',\n",
    "    'BlackRock is the best!!!',\n",
    "]\n",
    "\n",
    "for sentence in sentences:\n",
    "    print(sentence)\n",
    "    \n",
    "    ss = sid.polarity_scores(sentence)\n",
    "    for k in sorted(ss):\n",
    "        print('{0}: {1}, '.format(k, ss[k]), end='')\n",
    "    \n",
    "    print()\n",
    "    print('------')\n",
    "    \n",
    "# The log message at the bottom is nothing to worry about here"
   ]
  },
  {
   "cell_type": "markdown",
   "metadata": {},
   "source": [
    "## Sentiment of 'realDonaldTrump'\n",
    "\n",
    "Here's some code for a quick analysis of Trumps tweets by the source of the tweet, we care about iPhone vs Android as per: http://varianceexplained.org/r/trump-tweets/"
   ]
  },
  {
   "cell_type": "code",
   "execution_count": 3,
   "metadata": {},
   "outputs": [],
   "source": [
    "import tweepy\n",
    "\n",
    "# You can get this information on apps.twitter.com, you can replace them with strings if you want\n",
    "# but make sure you don't share your access keys by accident!\n",
    "# If you don't know how to set environment variables, just google 'Set env variable {your OS}' :-)\n",
    "auth = tweepy.OAuthHandler(os.environ['TWITTER_KEY'], os.environ['TWITTER_SECRET'])\n",
    "auth.set_access_token(os.environ['TWITTER_ACCESS_KEY'], os.environ['TWITTER_ACCESS_SECRET'])\n",
    "\n",
    "api = tweepy.API(auth)"
   ]
  },
  {
   "cell_type": "code",
   "execution_count": 4,
   "metadata": {},
   "outputs": [
    {
     "name": "stdout",
     "output_type": "stream",
     "text": [
      "Downloaded 0 pages...\n",
      "Downloaded 25 pages...\n",
      "Downloaded 50 pages...\n",
      "Downloaded 75 pages...\n",
      "Downloaded 100 pages...\n",
      "Downloaded 125 pages...\n",
      "Downloaded 150 pages...\n",
      "Downloaded 175 pages...\n",
      "Most recent tweet is:\n",
      "Interview with @LouDobbs coming up at 7pmE on @FoxBusiness. Enjoy! https://t.co/9V9z015kVl\n"
     ]
    }
   ],
   "source": [
    "pages = 200\n",
    "tweets = []\n",
    "\n",
    "for pnum in range(pages):\n",
    "    tweets.extend(api.user_timeline('realDonaldTrump', page=pnum))\n",
    "    if pnum % 25 == 0:\n",
    "        print('Downloaded {} pages...'.format(pnum))\n",
    "\n",
    "print('Most recent tweet is:')\n",
    "print(tweets[0].text)"
   ]
  },
  {
   "cell_type": "code",
   "execution_count": 5,
   "metadata": {},
   "outputs": [
    {
     "name": "stdout",
     "output_type": "stream",
     "text": [
      "Total tweet count: 3223\n",
      "---------\n",
      "Twitter for iPhone: 2290\n",
      "Media Studio: 99\n",
      "Twitter Web Client: 133\n",
      "Twitter Ads: 34\n",
      "Twitter for Android: 651\n",
      "Periscope: 1\n",
      "Twitter for iPad: 15\n"
     ]
    }
   ],
   "source": [
    "from collections import defaultdict\n",
    "\n",
    "split_by_source = defaultdict(list)\n",
    "\n",
    "print('Total tweet count: ' + str(len(tweets)))\n",
    "print('---------')\n",
    "\n",
    "for tweet in tweets:\n",
    "    split_by_source[tweet.source].append(tweet)\n",
    "\n",
    "for k, v in split_by_source.items():\n",
    "    print(k + ': ' + str(len(v)))"
   ]
  },
  {
   "cell_type": "code",
   "execution_count": 6,
   "metadata": {},
   "outputs": [],
   "source": [
    "keys_we_dont_care_about = []\n",
    "\n",
    "for k, v in split_by_source.items():\n",
    "    # This is set at an arbitrary value, you could easily change this to filter based on a dynamic number though!\n",
    "    if len(v) < 150:\n",
    "        keys_we_dont_care_about.append(k)"
   ]
  },
  {
   "cell_type": "code",
   "execution_count": 7,
   "metadata": {},
   "outputs": [],
   "source": [
    "for k in keys_we_dont_care_about:\n",
    "    del split_by_source[k]"
   ]
  },
  {
   "cell_type": "code",
   "execution_count": 8,
   "metadata": {},
   "outputs": [
    {
     "name": "stdout",
     "output_type": "stream",
     "text": [
      "Twitter for iPhone: 2290\n",
      "Twitter for Android: 651\n"
     ]
    }
   ],
   "source": [
    "# Just checking we've filtered out what we want to\n",
    "for k, v in split_by_source.items():\n",
    "    print(k + ': ' + str(len(v))) "
   ]
  },
  {
   "cell_type": "code",
   "execution_count": 9,
   "metadata": {},
   "outputs": [
    {
     "data": {
      "image/png": "[encoded data removed]",
      "text/plain": [
       "<matplotlib.figure.Figure at 0x10cf9ab38>"
      ]
     },
     "metadata": {},
     "output_type": "display_data"
    }
   ],
   "source": [
    "fig, axs = plt.subplots(nrows=len(split_by_source), figsize=(10,10))\n",
    "fig.subplots_adjust(hspace=.5)\n",
    "axes_count = 0\n",
    "\n",
    "# This graphing is very very ugly, and has some problems, like what if there are no tweets for a certain sentiment?\n",
    "# This would be easy to fix and maybe fun if you've not dealt with it before, PR's welcome.\n",
    "for key, source_tweets in split_by_source.items():\n",
    "    scored_tweets = [(sid.polarity_scores(tweet.text), tweet.text) for tweet in source_tweets]\n",
    "\n",
    "    scores = [round(s['compound'], 1) for s, t in scored_tweets]\n",
    "    scores_no_neutral = [s for s in scores if s]\n",
    "\n",
    "    plot = sns.countplot(scores_no_neutral, palette='RdYlGn', ax=axs[axes_count])\n",
    "    plot.set_title(key)\n",
    "    axes_count += 1"
   ]
  },
  {
   "cell_type": "markdown",
   "metadata": {},
   "source": [
    "It's easy to imagine how sentiment analysis could be applied to generate alpha here, dropping our analytics (we'd obviosuly need a lot more like topic extraction) above into a model would be easy.\n",
    "\n",
    "\n",
    "# What about image classification?\n",
    "Image classification is very useful in lots of ways, some cool applications of this to generate alpha can be found here: https://www.wired.com/2015/03/orbital-insight/\n",
    "\n",
    "\n",
    "These examples use ImageNet, which can be found here - https://www.tensorflow.org/tutorials/image_recognition"
   ]
  },
  {
   "cell_type": "markdown",
   "metadata": {},
   "source": [
    "![Puppy](golden.jpg)"
   ]
  },
  {
   "cell_type": "code",
   "execution_count": 10,
   "metadata": {},
   "outputs": [
    {
     "name": "stdout",
     "output_type": "stream",
     "text": [
      "golden retriever (score = 0.82660)\r\n",
      "Labrador retriever (score = 0.04462)\r\n",
      "kuvasz (score = 0.00533)\r\n",
      "doormat, welcome mat (score = 0.00446)\r\n",
      "tennis ball (score = 0.00364)\r\n"
     ]
    }
   ],
   "source": [
    "# The ! makes it run on the terminal underneath, this was just a demo to show how easy we aim to make\n",
    "# interacting with models like this.\n",
    "\n",
    "# Note: If you're getting weird log warnings when running this you can set 'TF_CPP_MIN_LOG_LEVEL'=2 to stop them. \n",
    "# Just uncomment the line below and re-run:\n",
    "# os.environ['TF_CPP_MIN_LOG_LEVEL'] = '2'\n",
    "!python classify_image.py --image_file=golden.jpg"
   ]
  },
  {
   "cell_type": "markdown",
   "metadata": {
    "collapsed": true
   },
   "source": [
    "![Mountains](mountain_range.jpg)"
   ]
  },
  {
   "cell_type": "code",
   "execution_count": 11,
   "metadata": {},
   "outputs": [
    {
     "name": "stdout",
     "output_type": "stream",
     "text": [
      "valley, vale (score = 0.75669)\r\n",
      "alp (score = 0.16014)\r\n",
      "lakeside, lakeshore (score = 0.00299)\r\n",
      "cliff, drop, drop-off (score = 0.00298)\r\n",
      "Band Aid (score = 0.00118)\r\n"
     ]
    }
   ],
   "source": [
    "!python classify_image.py --image_file=mountain_range.jpg"
   ]
  },
  {
   "cell_type": "markdown",
   "metadata": {},
   "source": [
    "# News example"
   ]
  },
  {
   "cell_type": "code",
   "execution_count": 12,
   "metadata": {},
   "outputs": [
    {
     "name": "stdout",
     "output_type": "stream",
     "text": [
      "Downloaded 100 stories in total\n"
     ]
    }
   ],
   "source": [
    "# Note this library is 'haxor', not 'hackernews' - install using pip.\n",
    "# And just incase you've not come across HN before - https://news.ycombinator.com/\n",
    "from hackernews import HackerNews\n",
    "\n",
    "hn = HackerNews()\n",
    "\n",
    "stories = [hn.get_item(story_id) for story_id in hn.top_stories(limit=100)]\n",
    "\n",
    "print('Downloaded {} stories in total'.format(len(stories)))"
   ]
  },
  {
   "cell_type": "code",
   "execution_count": 13,
   "metadata": {},
   "outputs": [
    {
     "name": "stdout",
     "output_type": "stream",
     "text": [
      "\n",
      "Hey,\n",
      "\n",
      "Here are the top stories about Google on HN this morning:\n",
      "\n",
      "DxO acquires Nik Collection assets from Google | https://nikcollection.dxo.com/ \n",
      "\n",
      "How we moved to Google Cloud using Consul and ZeroTier with zero downtime | https://tech.channable.com/posts/2017-10-25-how-we-moved-to-google-cloud-using-consul-and-zerotier.html\n",
      "\n"
     ]
    }
   ],
   "source": [
    "# Filtering with anything here is trivial, look at other news sources and see how you could do similar things - \n",
    "# maybe you'll have to scrape if they don't give you a nice API. :-)\n",
    "filtered = [s for s in stories if s.title and s.url]\n",
    "goog_stories = [s for s in filtered if 'google' in s.title.lower()]\n",
    "\n",
    "msg = \"\"\"\n",
    "Hey,\n",
    "\n",
    "Here are the top stories about Google on HN this morning:\n",
    "\n",
    "%s\n",
    "\"\"\" % ' \\n\\n'.join([s.title + ' | ' + s.url for s in goog_stories])\n",
    "\n",
    "print(msg)"
   ]
  }
 ],
 "metadata": {
  "kernelspec": {
   "display_name": "Python 3",
   "language": "python",
   "name": "python3"
  },
  "language_info": {
   "codemirror_mode": {
    "name": "ipython",
    "version": 3
   },
   "file_extension": ".py",
   "mimetype": "text/x-python",
   "name": "python",
   "nbconvert_exporter": "python",
   "pygments_lexer": "ipython3",
   "version": "3.6.1"
  }
 },
 "nbformat": 4,
 "nbformat_minor": 2
}
